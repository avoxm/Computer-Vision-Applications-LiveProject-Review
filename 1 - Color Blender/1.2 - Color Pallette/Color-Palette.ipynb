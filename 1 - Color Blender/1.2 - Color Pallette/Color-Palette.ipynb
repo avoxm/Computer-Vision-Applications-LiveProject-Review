{
 "cells": [
  {
   "cell_type": "code",
   "execution_count": 6,
   "metadata": {},
   "outputs": [],
   "source": [
    "# Import required modules\n",
    "import numpy as np\n",
    "import cv2 as cv\n",
    "\n",
    "# Create a white canvas\n",
    "def createCanvas(height, width, color):\n",
    "    canvas = np.zeros([height, width, 1], dtype=np.uint8)\n",
    "    canvas.fill(color)\n",
    "    return canvas\n",
    "\n",
    "# Display an image\n",
    "def displayImage(image):\n",
    "    if image is None:\n",
    "        raise ValueError(\"Image cannot be empty\")\n",
    "    cv.imshow('Color palette', image)\n",
    "    cv.waitKey(0)\n",
    "    cv.destroyAllWindows()\n",
    "\n",
    "# Load the color palette\n",
    "palette = cv.imread(\"data/color-palette.jpg\")\n",
    "if palette is None:\n",
    "    raise IOError(\"Palette image is not found\")\n",
    "\n",
    "canvasHeight = 720\n",
    "canvasWidth = 720\n",
    "rgbWhite = 255\n",
    "\n",
    "# Create canvas\n",
    "canvas = createCanvas(canvasHeight, canvasWidth, rgbWhite)\n",
    "\n",
    "# Display the canvas and the \n",
    "displayImage(canvas)\n",
    "\n",
    "displayImage(palette)\n"
   ]
  },
  {
   "cell_type": "code",
   "execution_count": null,
   "metadata": {},
   "outputs": [],
   "source": []
  }
 ],
 "metadata": {
  "kernelspec": {
   "display_name": "Python 3",
   "language": "python",
   "name": "python3"
  },
  "language_info": {
   "codemirror_mode": {
    "name": "ipython",
    "version": 3
   },
   "file_extension": ".py",
   "mimetype": "text/x-python",
   "name": "python",
   "nbconvert_exporter": "python",
   "pygments_lexer": "ipython3",
   "version": "3.8.5"
  }
 },
 "nbformat": 4,
 "nbformat_minor": 4
}
