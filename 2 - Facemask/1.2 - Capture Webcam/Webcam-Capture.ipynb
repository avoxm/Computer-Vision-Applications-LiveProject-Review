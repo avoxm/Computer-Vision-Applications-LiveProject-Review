{
 "cells": [
  {
   "cell_type": "code",
   "execution_count": null,
   "metadata": {},
   "outputs": [],
   "source": []
  },
  {
   "cell_type": "code",
   "execution_count": 3,
   "metadata": {},
   "outputs": [],
   "source": [
    "# Import required modules\n",
    "import numpy as np\n",
    "import cv2 as cv\n",
    "\n",
    "# try to load webcam\n",
    "cam = cv.VideoCapture(0)  \n",
    "\n",
    "if not cam.isOpened():\n",
    "    raise Exception(\"Cannot open camera\")\n",
    "\n",
    "while(True):\n",
    "    # read face mask image with alpha channel preserved\n",
    "    face_mask = cv.imread('data/mask.png', flags=cv.IMREAD_UNCHANGED) \n",
    "    if face_mask is None:\n",
    "        raise IOError(\"Face mask image is not found\")\n",
    "    \n",
    "    # get alpha channel (channel 3)\n",
    "    alpha_channel = face_mask[:, :, 3]\n",
    "    \n",
    "    # get colour channels (0 to 2)\n",
    "    bgr_channels = face_mask[:, :, :3]\n",
    "    \n",
    "    # display alpha and colour channels\n",
    "    cv.imshow('alpha channel', alpha_channel)\n",
    "    cv.imshow('colour channels', bgr_channels)\n",
    "    \n",
    "    # capture frame by frame\n",
    "    ret, frame = cam.read()\n",
    "    \n",
    "    # if frame was not read correctly ret is False\n",
    "    if not ret:\n",
    "        raise IOError(\"Failed to receive frame\")\n",
    "    \n",
    "    # display the webcam frame\n",
    "    cv.imshow('face mask', frame)\n",
    "\n",
    "    # wait for `c` key to capture\n",
    "    if cv.waitKey(1) == ord('c'):\n",
    "        break\n",
    "\n",
    "cv.imshow('face mask', frame)\n",
    "\n",
    "# wait for ESC key to exit\n",
    "cv.waitKey(0) & 0xFF\n",
    "    \n",
    "# When everything done, release the capture and destrow the windows\n",
    "cam.release()\n",
    "cv.destroyAllWindows()"
   ]
  },
  {
   "cell_type": "code",
   "execution_count": null,
   "metadata": {},
   "outputs": [],
   "source": []
  }
 ],
 "metadata": {
  "kernelspec": {
   "display_name": "Python 3",
   "language": "python",
   "name": "python3"
  },
  "language_info": {
   "codemirror_mode": {
    "name": "ipython",
    "version": 3
   },
   "file_extension": ".py",
   "mimetype": "text/x-python",
   "name": "python",
   "nbconvert_exporter": "python",
   "pygments_lexer": "ipython3",
   "version": "3.8.5"
  }
 },
 "nbformat": 4,
 "nbformat_minor": 4
}
